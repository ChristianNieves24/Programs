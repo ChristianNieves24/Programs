{
 "cells": [
  {
   "cell_type": "heading",
   "metadata": {
    "collapsed": true
   },
   "level": 1,
   "source": [
    "FLIGHT SPARE PLOTS NOTEBOOK\n"
   ]
  },
  {
   "cell_type": "heading",
   "metadata": {
    "collapsed": true
   },
   "level": 1,
   "source": [
    "Import packages\n"
   ]
  },
  {
   "cell_type": "code",
   "execution_count": null,
   "metadata": {
    "collapsed": true
   },
   "outputs": [],
   "source": [
    "\n",
    "import h5py\n",
    "import os\n",
    "import sys\n",
    "from glob import glob\n",
    "from math import factorial\n",
    "from numpy import genfromtxt, sum, array,sqrt,zeros,exp,diag, pi,arange, sin, cos,vstack,log, mean, ones\n",
    "from pylab import show, errorbar, scatter,legend, colorbar, xlabel, ylabel, title, imshow,plot, subplot, axvspan,xlim,ylim,stem,setp\n",
    "from matplotlib import gridspec\n",
    "from scipy.optimize import curve_fit\n"
   ]
  },
  {
   "cell_type": "heading",
   "metadata": {},
   "level": 1,
   "source": [
    "Interval of bins to be analyzed\n"
   ]
  },
  {
   "cell_type": "code",
   "execution_count": 5,
   "metadata": {},
   "outputs": [],
   "source": [
    "# (a,b)\n",
    "a = 190\n",
    "b = 221\n",
    "c = 210   # approximate point where the two gaussians\n"
   ]
  },
  {
   "cell_type": "heading",
   "metadata": {},
   "level": 1,
   "source": [
    "Extraction of data from .hdf5 files\n"
   ]
  },
  {
   "cell_type": "code",
   "execution_count": null,
   "metadata": {},
   "outputs": [],
   "source": [
    "\n",
    "h5FilesDir = \"/home/cnieves/PycharmProjects/CfA/flight_spare_data/h5_files\"\n",
    "logfilesTablePath = \"/home/cnieves/PycharmProjects/CfA/flight_spare_data/data_table.txt\"\n",
    "\n",
    "tableData = genfromtxt(logfilesTablePath, str)   # Data from angular response measurements\n",
    "\n",
    "# Gets all the .h5 files from the specified directory\n",
    "if h5FilesDir.endswith(\"/\"):\n",
    "    filePaths = sorted(glob(h5FilesDir + \"*.h5\"), key=os.path.getsize)\n",
    "else:\n",
    "    h5FilesDir += \"/\"\n",
    "    filePaths = sorted(glob(h5FilesDir + \"*.h5\"), key=os.path.getsize)\n",
    "\n",
    "countsPerSec = []     # Contains cps for each bin\n",
    "elevation = []        # Values for elevation (deg)\n",
    "azimuth = []          # Values for azimuth (deg)\n",
    "binList = []          # Contains the arrays for each individual 'bin'\n",
    "eventsTimeList = []   # [All counts, total time, name of the file] to be sorted by time\n",
    "counts = []           # All counts on each 'bin' array\n",
    "counts1 = []\n",
    "bns = []\n",
    "\n",
    "for i in filePaths:\n",
    "    fileName = i[len(h5FilesDir):(len(i) - len(\".h5\"))]\n",
    "\n",
    "    # Find files in the directory that match with the files on the table\n",
    "    for m in tableData:\n",
    "        if m[2] == fileName:  # m[2] is the logfile name on table\n",
    "\n",
    "            # Calculate counts per second\n",
    "            dataFile = h5py.File(i)\n",
    "            binList.append(dataFile['data/tlm_sxm_data/hdr']['bin'])\n",
    "            bins = dataFile['data/tlm_sxm_data/hdr']['bin'][:, a:b]\n",
    "            dataFile.close()\n",
    "\n",
    "            s = sum(bins, 1)\n",
    "            totalTime = float(32 * len(s) / 2 + 18 * len(s) / 2)\n",
    "            totalCounts = sum(bins)\n",
    "            totalCounts1 = sum(bins[:35,:])\n",
    "            cps = totalCounts / totalTime\n",
    "\n",
    "            azimuth.append(float(m[0]))\n",
    "            elevation.append(float(m[1]))\n",
    "            countsPerSec.append(cps)\n",
    "            eventsTimeList.append([sum(bins,0), totalTime, fileName])\n",
    "            counts.append(totalCounts)\n",
    "            counts1.append(totalCounts1)\n",
    "            bns.append(bins)\n"
   ]
  },
  {
   "cell_type": "code",
   "execution_count": null,
   "metadata": {},
   "outputs": [],
   "source": []
  }
 ],
 "metadata": {
  "kernelspec": {
   "display_name": "Python 2",
   "language": "python",
   "name": "python2"
  },
  "language_info": {
   "codemirror_mode": {
    "name": "ipython",
    "version": 2
   },
   "file_extension": ".py",
   "mimetype": "text/x-python",
   "name": "python",
   "nbconvert_exporter": "python",
   "pygments_lexer": "ipython2",
   "version": "2.7.6"
  }
 },
 "nbformat": 4,
 "nbformat_minor": 0
}
